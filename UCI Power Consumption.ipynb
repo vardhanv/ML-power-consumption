{
 "cells": [
  {
   "cell_type": "markdown",
   "metadata": {
    "deletable": true,
    "editable": true
   },
   "source": [
    "# Analyze Power Usage Data"
   ]
  },
  {
   "cell_type": "markdown",
   "metadata": {
    "deletable": true,
    "editable": true
   },
   "source": [
    "#### Description of the Dataset\n",
    "Source: https://archive.ics.uci.edu/ml/datasets/Individual+household+electric+power+consumption#\n",
    "\n",
    "This archive contains 2075259 measurements gathered between December 2006 and November 2010 (47 months). \n",
    "\n",
    "Notes: \n",
    "\n",
    "1.(global_active_power*1000/60 - sub_metering_1 - sub_metering_2 - sub_metering_3) represents the active energy consumed every minute (in watt hour) in the household by electrical equipment not measured in sub-meterings 1, 2 and 3. \n",
    "\n",
    "2.The dataset contains some missing values in the measurements (nearly 1,25% of the rows). All calendar timestamps are present in the dataset but for some timestamps, the measurement values are missing: a missing value is represented by the absence of value between two consecutive semi-colon attribute separators. For instance, the dataset shows missing values on April 28, 2007.\n",
    "\n",
    "\n",
    "Attribute Information:\n",
    "\n",
    "1.date: Date in format dd/mm/yyyy \n",
    "\n",
    "2.time: time in format hh:mm:ss \n",
    "\n",
    "3.global_active_power: household global minute-averaged active power (in kilowatt) \n",
    "\n",
    "4.global_reactive_power: household global minute-averaged reactive power (in kilowatt) \n",
    "\n",
    "5.voltage: minute-averaged voltage (in volt) \n",
    "\n",
    "6.global_intensity: household global minute-averaged current intensity (in ampere) \n",
    "\n",
    "7.sub_metering_1: energy sub-metering No. 1 (in watt-hour of active energy). It corresponds to the kitchen, containing mainly a dishwasher, an oven and a microwave (hot plates are not electric but gas powered). \n",
    "\n",
    "8.sub_metering_2: energy sub-metering No. 2 (in watt-hour of active energy). It corresponds to the laundry room, containing a washing-machine, a tumble-drier, a refrigerator and a light. \n",
    "\n",
    "9.sub_metering_3: energy sub-metering No. 3 (in watt-hour of active energy). It corresponds to an electric water-heater and an air-conditioner."
   ]
  },
  {
   "cell_type": "markdown",
   "metadata": {
    "deletable": true,
    "editable": true
   },
   "source": [
    "### Remove this cell on databrics. Only for jupyter"
   ]
  },
  {
   "cell_type": "code",
   "execution_count": 7,
   "metadata": {
    "collapsed": false,
    "deletable": true,
    "editable": true
   },
   "outputs": [
    {
     "ename": "ValueError",
     "evalue": "Cannot run multiple SparkContexts at once; existing SparkContext(app=pyspark-shell, master=local[*]) created by __init__ at <ipython-input-3-0b9fb9572a7d>:5 ",
     "output_type": "error",
     "traceback": [
      "\u001b[0;31m---------------------------------------------------------------------------\u001b[0m",
      "\u001b[0;31mValueError\u001b[0m                                Traceback (most recent call last)",
      "\u001b[0;32m<ipython-input-7-0b9fb9572a7d>\u001b[0m in \u001b[0;36m<module>\u001b[0;34m()\u001b[0m\n\u001b[1;32m      3\u001b[0m \u001b[0;34m\u001b[0m\u001b[0m\n\u001b[1;32m      4\u001b[0m \u001b[0;32mimport\u001b[0m \u001b[0mpyspark\u001b[0m\u001b[0;34m\u001b[0m\u001b[0m\n\u001b[0;32m----> 5\u001b[0;31m \u001b[0msc\u001b[0m \u001b[0;34m=\u001b[0m \u001b[0mpyspark\u001b[0m\u001b[0;34m.\u001b[0m\u001b[0mSparkContext\u001b[0m\u001b[0;34m(\u001b[0m\u001b[0;34m)\u001b[0m\u001b[0;34m\u001b[0m\u001b[0m\n\u001b[0m",
      "\u001b[0;32m/usr/local/spark/python/pyspark/context.py\u001b[0m in \u001b[0;36m__init__\u001b[0;34m(self, master, appName, sparkHome, pyFiles, environment, batchSize, serializer, conf, gateway, jsc, profiler_cls)\u001b[0m\n\u001b[1;32m    113\u001b[0m         \"\"\"\n\u001b[1;32m    114\u001b[0m         \u001b[0mself\u001b[0m\u001b[0;34m.\u001b[0m\u001b[0m_callsite\u001b[0m \u001b[0;34m=\u001b[0m \u001b[0mfirst_spark_call\u001b[0m\u001b[0;34m(\u001b[0m\u001b[0;34m)\u001b[0m \u001b[0;32mor\u001b[0m \u001b[0mCallSite\u001b[0m\u001b[0;34m(\u001b[0m\u001b[0;32mNone\u001b[0m\u001b[0;34m,\u001b[0m \u001b[0;32mNone\u001b[0m\u001b[0;34m,\u001b[0m \u001b[0;32mNone\u001b[0m\u001b[0;34m)\u001b[0m\u001b[0;34m\u001b[0m\u001b[0m\n\u001b[0;32m--> 115\u001b[0;31m         \u001b[0mSparkContext\u001b[0m\u001b[0;34m.\u001b[0m\u001b[0m_ensure_initialized\u001b[0m\u001b[0;34m(\u001b[0m\u001b[0mself\u001b[0m\u001b[0;34m,\u001b[0m \u001b[0mgateway\u001b[0m\u001b[0;34m=\u001b[0m\u001b[0mgateway\u001b[0m\u001b[0;34m,\u001b[0m \u001b[0mconf\u001b[0m\u001b[0;34m=\u001b[0m\u001b[0mconf\u001b[0m\u001b[0;34m)\u001b[0m\u001b[0;34m\u001b[0m\u001b[0m\n\u001b[0m\u001b[1;32m    116\u001b[0m         \u001b[0;32mtry\u001b[0m\u001b[0;34m:\u001b[0m\u001b[0;34m\u001b[0m\u001b[0m\n\u001b[1;32m    117\u001b[0m             self._do_init(master, appName, sparkHome, pyFiles, environment, batchSize, serializer,\n",
      "\u001b[0;32m/usr/local/spark/python/pyspark/context.py\u001b[0m in \u001b[0;36m_ensure_initialized\u001b[0;34m(cls, instance, gateway, conf)\u001b[0m\n\u001b[1;32m    270\u001b[0m                         \u001b[0;34m\" created by %s at %s:%s \"\u001b[0m\u001b[0;34m\u001b[0m\u001b[0m\n\u001b[1;32m    271\u001b[0m                         % (currentAppName, currentMaster,\n\u001b[0;32m--> 272\u001b[0;31m                             callsite.function, callsite.file, callsite.linenum))\n\u001b[0m\u001b[1;32m    273\u001b[0m                 \u001b[0;32melse\u001b[0m\u001b[0;34m:\u001b[0m\u001b[0;34m\u001b[0m\u001b[0m\n\u001b[1;32m    274\u001b[0m                     \u001b[0mSparkContext\u001b[0m\u001b[0;34m.\u001b[0m\u001b[0m_active_spark_context\u001b[0m \u001b[0;34m=\u001b[0m \u001b[0minstance\u001b[0m\u001b[0;34m\u001b[0m\u001b[0m\n",
      "\u001b[0;31mValueError\u001b[0m: Cannot run multiple SparkContexts at once; existing SparkContext(app=pyspark-shell, master=local[*]) created by __init__ at <ipython-input-3-0b9fb9572a7d>:5 "
     ]
    }
   ],
   "source": [
    "import findspark\n",
    "findspark.init()\n",
    "\n",
    "import pyspark\n",
    "sc = pyspark.SparkContext()"
   ]
  },
  {
   "cell_type": "markdown",
   "metadata": {
    "deletable": true,
    "editable": true
   },
   "source": [
    "#### Load the data into an RDD"
   ]
  },
  {
   "cell_type": "code",
   "execution_count": 8,
   "metadata": {
    "collapsed": true,
    "deletable": true,
    "editable": true
   },
   "outputs": [],
   "source": [
    "import numpy\n",
    "import matplotlib.pyplot as pyplot"
   ]
  },
  {
   "cell_type": "code",
   "execution_count": 9,
   "metadata": {
    "collapsed": false,
    "deletable": true,
    "editable": true
   },
   "outputs": [
    {
     "data": {
      "text/plain": [
       "['Date;Time;Global_active_power;Global_reactive_power;Voltage;Global_intensity;Sub_metering_1;Sub_metering_2;Sub_metering_3',\n",
       " '16/12/2006;17:24:00;4.216;0.418;234.840;18.400;0.000;1.000;17.000',\n",
       " '16/12/2006;17:25:00;5.360;0.436;233.630;23.000;0.000;1.000;16.000',\n",
       " '16/12/2006;17:26:00;5.374;0.498;233.290;23.000;0.000;2.000;17.000',\n",
       " '16/12/2006;17:27:00;5.388;0.502;233.740;23.000;0.000;1.000;17.000']"
      ]
     },
     "execution_count": 9,
     "metadata": {},
     "output_type": "execute_result"
    }
   ],
   "source": [
    "#read txt file, gzipped files will be auto-unzipped\n",
    "myRDD = sc.textFile(\"household_power_consumption.txt.gz\")\n",
    "\n",
    "#print myRDD.count()\n",
    "myRDD.take(5)"
   ]
  },
  {
   "cell_type": "markdown",
   "metadata": {
    "deletable": true,
    "editable": true
   },
   "source": [
    "#### Start Your Analysis Here"
   ]
  },
  {
   "cell_type": "markdown",
   "metadata": {
    "deletable": true,
    "editable": true
   },
   "source": [
    "<h5> Some helper functions </h5>"
   ]
  },
  {
   "cell_type": "code",
   "execution_count": 10,
   "metadata": {
    "collapsed": true,
    "deletable": true,
    "editable": true
   },
   "outputs": [],
   "source": [
    "from datetime import datetime\n",
    "\n",
    "def getFloat(x):\n",
    "  try:    y = float(x)\n",
    "  except: y = 0\n",
    "  return y\n",
    "\n",
    "def getDate(x):\n",
    "  try: y = datetime.strptime(x,\"%d/%m/%Y\").date()\n",
    "  except ValueError: \n",
    "    y = datetime.strptime(\"01/01/1901\",\"%d/%m/%Y\").date()  \n",
    "  return y\n",
    "    "
   ]
  },
  {
   "cell_type": "markdown",
   "metadata": {},
   "source": [
    "<h5> Get a CleanRDD </h5>\n",
    "<ul>\n",
    "    <li> Get each individual data element \n",
    "    <li> Convert it to the right format (date,float, etc)\n",
    "    <li> Convert global active power to watt-hour\n",
    "    <li> Add field for \"other\"\n",
    "</ul>"
   ]
  },
  {
   "cell_type": "code",
   "execution_count": 11,
   "metadata": {
    "collapsed": true,
    "deletable": true,
    "editable": true
   },
   "outputs": [],
   "source": [
    "import re\n",
    "p = re.compile('(.*?)(?:;|\\\\Z)')\n",
    "\n",
    "# Clean the data, and convert global active energy into watt-hour\n",
    "cleanRDD = myRDD.map(lambda l: p.findall(l)).map(lambda x: (getDate(x[0]),str(x[1]),getFloat(x[2])*1000/60,getFloat(x[3]),getFloat(x[4]),getFloat(x[5]),getFloat(x[6]), getFloat(x[7]), getFloat(x[8]), getFloat(x[2])*1000/60 - (getFloat(x[6]) + getFloat(x[7]) + getFloat(x[8])) ))"
   ]
  },
  {
   "cell_type": "code",
   "execution_count": 12,
   "metadata": {
    "collapsed": false,
    "deletable": true,
    "editable": true
   },
   "outputs": [
    {
     "data": {
      "text/plain": [
       "2075260"
      ]
     },
     "execution_count": 12,
     "metadata": {},
     "output_type": "execute_result"
    }
   ],
   "source": [
    "cleanRDD.count()"
   ]
  },
  {
   "cell_type": "markdown",
   "metadata": {},
   "source": [
    "<h5> Get an RDD for \"Day of the Week\" (e.g Mon, Tue) </h5>\n",
    "<ul>\n",
    "    <li> Eliminate the time\n",
    "    <li> Aggregate the full day's data\n",
    "</ul>"
   ]
  },
  {
   "cell_type": "code",
   "execution_count": 13,
   "metadata": {
    "collapsed": false,
    "deletable": true,
    "editable": true
   },
   "outputs": [
    {
     "data": {
      "text/plain": [
       "[[datetime.date(1901, 1, 1), 0.0, 0, 0, 0, 0, 0, 0, 0.0]]"
      ]
     },
     "execution_count": 13,
     "metadata": {},
     "output_type": "execute_result"
    }
   ],
   "source": [
    "dailyRDD = cleanRDD.map(lambda x: (x[0],(x[2],x[3],x[4],x[5],x[6],x[7],x[8],x[9]))).reduceByKey( lambda v1,v2: (v1[0]+v2[0],v1[1]+v2[1],v1[2]+v2[2],v1[3]+v2[3],v1[4]+v2[4],v1[5]+v2[5],v1[6]+v2[6],v1[7]+v2[7])).sortByKey().map(lambda x: [x[0]]+list(x[1]))\n",
    "\n",
    "dailyRDD.take(1)"
   ]
  },
  {
   "cell_type": "markdown",
   "metadata": {},
   "source": [
    "<h5> Get an RDD for \"Hour of the Day\" (e.g 1AM, 2AM) </h5>\n",
    "<ul>\n",
    "    <li> This is currently not used\n",
    "</ul>"
   ]
  },
  {
   "cell_type": "code",
   "execution_count": 14,
   "metadata": {
    "collapsed": false,
    "deletable": true,
    "editable": true
   },
   "outputs": [
    {
     "data": {
      "text/plain": [
       "[['00',\n",
       "  939594.7999999663,\n",
       "  9829.20799999984,\n",
       "  20723173.08,\n",
       "  239964.80000000316,\n",
       "  31151.0,\n",
       "  47481.0,\n",
       "  253622.0,\n",
       "  607340.7999999861]]"
      ]
     },
     "execution_count": 14,
     "metadata": {},
     "output_type": "execute_result"
    }
   ],
   "source": [
    "hourRDD = cleanRDD.map(lambda x: (x[1].split(':')[0],(x[2],x[3],x[4],x[5],x[6],x[7],x[8],x[9]))).reduceByKey( lambda v1,v2: (v1[0]+v2[0],v1[1]+v2[1],v1[2]+v2[2],v1[3]+v2[3],v1[4]+v2[4],v1[5]+v2[5],v1[6]+v2[6],v1[7]+v2[7])).sortByKey().map(lambda x: [x[0]]+list(x[1]))\n",
    "\n",
    "hourRDD.take(1)"
   ]
  },
  {
   "cell_type": "code",
   "execution_count": 14,
   "metadata": {
    "collapsed": true,
    "deletable": true,
    "editable": true
   },
   "outputs": [],
   "source": [
    "weekDayRDD = dailyRDD.map( lambda x: (x[0].strftime('%w (%a)'), x[1:])).reduceByKey(lambda v1,v2: (numpy.add(v1,v2)).tolist()).sortByKey().map(lambda x: [x[0]] + list(x[1]))\n",
    "weekDayRDD.take(1)\n",
    "weekDayDF = weekDayRDD.toDF().toDF('WeekDay',\n",
    "               'Total (W/hr)',\n",
    "               'global_reactive_power',\n",
    "               'voltage', \n",
    "               'global_intensity',\n",
    "               'Kitchen (W/hr)',\n",
    "               'Laundry room (W/hr)',\n",
    "               'Water-heater & Air-conditioner (W/hr)',\n",
    "               'Other (W/hr)')"
   ]
  },
  {
   "cell_type": "code",
   "execution_count": 15,
   "metadata": {
    "collapsed": true,
    "deletable": true,
    "editable": true
   },
   "outputs": [],
   "source": [
    "hourOfDayRDD = dailyRDD.map( lambda x: (x[0].strftime('%w (%a)'), x[1:])).reduceByKey(lambda v1,v2: (numpy.add(v1,v2)).tolist()).sortByKey().map(lambda x: [x[0]] + list(x[1]))\n",
    "hourOfDayRDD.take(1)\n",
    "hourOfDayRDD = hourOfDayRDD.toDF().toDF('HourOfDay',\n",
    "               'Total (W/hr)',\n",
    "               'global_reactive_power',\n",
    "               'voltage', \n",
    "               'global_intensity',\n",
    "               'Kitchen (W/hr)',\n",
    "               'Laundry room (W/hr)',\n",
    "               'Water-heater & Air-conditioner (W/hr)',\n",
    "               'Other (W/hr)')"
   ]
  },
  {
   "cell_type": "code",
   "execution_count": 1,
   "metadata": {
    "collapsed": false,
    "deletable": true,
    "editable": true
   },
   "outputs": [
    {
     "ename": "NameError",
     "evalue": "name 'display' is not defined",
     "output_type": "error",
     "traceback": [
      "\u001b[0;31m---------------------------------------------------------------------------\u001b[0m",
      "\u001b[0;31mNameError\u001b[0m                                 Traceback (most recent call last)",
      "\u001b[0;32m<ipython-input-1-a7b18a415325>\u001b[0m in \u001b[0;36m<module>\u001b[0;34m()\u001b[0m\n\u001b[0;32m----> 1\u001b[0;31m \u001b[0mdisplay\u001b[0m\u001b[0;34m(\u001b[0m\u001b[0mweekDayDF\u001b[0m\u001b[0;34m)\u001b[0m\u001b[0;34m\u001b[0m\u001b[0m\n\u001b[0m",
      "\u001b[0;31mNameError\u001b[0m: name 'display' is not defined"
     ]
    }
   ],
   "source": [
    "display(weekDayDF)"
   ]
  },
  {
   "cell_type": "code",
   "execution_count": 17,
   "metadata": {
    "collapsed": true,
    "deletable": true,
    "editable": true
   },
   "outputs": [],
   "source": [
    "display(weekDayDF)"
   ]
  },
  {
   "cell_type": "code",
   "execution_count": 18,
   "metadata": {
    "collapsed": true,
    "deletable": true,
    "editable": true
   },
   "outputs": [],
   "source": [
    "display(weekDayDF)"
   ]
  },
  {
   "cell_type": "code",
   "execution_count": 19,
   "metadata": {
    "collapsed": true,
    "deletable": true,
    "editable": true
   },
   "outputs": [],
   "source": [
    "display(weekDayDF)"
   ]
  },
  {
   "cell_type": "code",
   "execution_count": 20,
   "metadata": {
    "collapsed": true,
    "deletable": true,
    "editable": true
   },
   "outputs": [],
   "source": [
    "display(weekDayDF)"
   ]
  },
  {
   "cell_type": "code",
   "execution_count": 21,
   "metadata": {
    "collapsed": true,
    "deletable": true,
    "editable": true
   },
   "outputs": [],
   "source": [
    "monthlyRDD = dailyRDD.map( lambda x: (x[0].strftime('%m (%B)'), x[1:])).reduceByKey(lambda v1,v2: (numpy.add(v1,v2)).tolist()).sortByKey().map(lambda x: [x[0]] + list(x[1]))"
   ]
  },
  {
   "cell_type": "code",
   "execution_count": 22,
   "metadata": {
    "collapsed": true,
    "deletable": true,
    "editable": true
   },
   "outputs": [],
   "source": [
    "# Rename the columns\n",
    "monthlyDF = monthlyRDD.toDF().toDF('Month',\n",
    "               'Total (W/hr)',\n",
    "               'global_reactive_power',\n",
    "               'voltage', \n",
    "               'global_intensity',\n",
    "               'Kitchen (W/hr)',\n",
    "               'Laundry room (W/hr)',\n",
    "               'Water-heater & Air-conditioner (W/hr)',\n",
    "               'Other (W/hr)')"
   ]
  },
  {
   "cell_type": "code",
   "execution_count": 23,
   "metadata": {
    "collapsed": true,
    "deletable": true,
    "editable": true
   },
   "outputs": [],
   "source": [
    "  display(monthlyDF)"
   ]
  },
  {
   "cell_type": "code",
   "execution_count": 24,
   "metadata": {
    "collapsed": true,
    "deletable": true,
    "editable": true
   },
   "outputs": [],
   "source": [
    "  display(monthlyDF)"
   ]
  },
  {
   "cell_type": "code",
   "execution_count": 25,
   "metadata": {
    "collapsed": true,
    "deletable": true,
    "editable": true
   },
   "outputs": [],
   "source": [
    "  display(monthlyDF)"
   ]
  },
  {
   "cell_type": "code",
   "execution_count": 26,
   "metadata": {
    "collapsed": true,
    "deletable": true,
    "editable": true
   },
   "outputs": [],
   "source": [
    "  display(monthlyDF)"
   ]
  },
  {
   "cell_type": "code",
   "execution_count": 27,
   "metadata": {
    "collapsed": true,
    "deletable": true,
    "editable": true
   },
   "outputs": [],
   "source": [
    "  display(monthlyDF)"
   ]
  },
  {
   "cell_type": "code",
   "execution_count": 28,
   "metadata": {
    "collapsed": true,
    "deletable": true,
    "editable": true
   },
   "outputs": [],
   "source": [
    "  display(monthlyDF)"
   ]
  },
  {
   "cell_type": "code",
   "execution_count": 29,
   "metadata": {
    "collapsed": true,
    "deletable": true,
    "editable": true
   },
   "outputs": [],
   "source": []
  }
 ],
 "metadata": {
  "kernelspec": {
   "display_name": "Python 3",
   "language": "python",
   "name": "python3"
  },
  "language_info": {
   "codemirror_mode": {
    "name": "ipython",
    "version": 3
   },
   "file_extension": ".py",
   "mimetype": "text/x-python",
   "name": "python",
   "nbconvert_exporter": "python",
   "pygments_lexer": "ipython3",
   "version": "3.5.2"
  },
  "name": "Py PROBLEMS Assignment 1",
  "notebookId": 3039719065455250
 },
 "nbformat": 4,
 "nbformat_minor": 0
}
